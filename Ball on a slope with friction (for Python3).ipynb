{
 "cells": [
  {
   "cell_type": "markdown",
   "metadata": {},
   "source": [
    "Ball on a slope with friction (for python3) "
   ]
  },
  {
   "cell_type": "code",
   "execution_count": 33,
   "metadata": {},
   "outputs": [
    {
     "data": {
      "text/plain": [
       "' create a list with the following initial conditions respectively sepreated \\nby commas, if unknown put 0. \\nu(initial velocity ),\\nv(final velocity),\\na (acceleration)\\ns (legnth of slope)\\nt (time taken to travel on slope)\\ninc (angle of inlcine of slope,between 0 - 90 degrees)\\nc (friction coefficient)\\nm (mass)   \\n\\n'"
      ]
     },
     "execution_count": 33,
     "metadata": {},
     "output_type": "execute_result"
    }
   ],
   "source": [
    "\"\"\"\n",
    "Ball rolling down a rough slope example :\n",
    "We will use a class for the forces acting on the ball and for the motion of the\n",
    "ball on the slope.\n",
    "To create a new ball (object) we will pass an instance through the\n",
    "Slope() clas which will\n",
    "also inherit attrbutes of the class.\n",
    "The variables ’ u,v,a,s,t,inc,c,m ‘ represent initial conditions for\n",
    "the ball - will be explained below.\n",
    "\"\"\"\n",
    "import math\n",
    "g = 9.81  # acceleration due to gravity.\n",
    "pi = math.pi\n",
    "\n",
    "\n",
    "class Slope():  # variables of forces present in the plane\n",
    "    def __init__(self, list1):\n",
    "        self.inc = float(list1[5])\n",
    "        self.m = float(list1[7])\n",
    "        self.wt = self.m*g*math.sin(pi/180*float(list1[5]))  \n",
    "        # forces acting along the slope.\n",
    "        self.re = self.m*g*math.cos(pi/180*float(list1[5]))  \n",
    "        # forces acting along perpendicular to the slope.\n",
    "        self.c = float(list1[6])\n",
    "        self.u = float(list1[0])\n",
    "        self.v = float(list1[1])\n",
    "        self.s = float(list1[3])\n",
    "        self.t = float(list1[4])\n",
    "        self.a = float((self.wt - (self.c*self.re))/self.m)\n",
    "\n",
    "    def resolve(self):  # (wt-(c*re))/m=a\n",
    "        self.a = float((self.wt - (self.c*self.re))/self.m)\n",
    "        return self.a\n",
    "        \n",
    "    def finalspeed(self):\n",
    "        self.v = self.u + (self.a * self.t)\n",
    "        return self.v \n",
    "        \n",
    "    def initialspeed(self):\n",
    "        self.u = self.v - (self.a * self.t)\n",
    "        return self.u \n",
    "    \n",
    "\"\"\" create a list with the following initial conditions respectively sepreated \n",
    "by commas, if unknown put 0. \n",
    "u(initial velocity ),\n",
    "v(final velocity),\n",
    "a (acceleration)\n",
    "s (legnth of slope)\n",
    "t (time taken to travel on slope)\n",
    "inc (angle of inlcine of slope,between 0 - 90 degrees)\n",
    "c (friction coefficient)\n",
    "m (mass)   \n",
    "\n",
    "\"\"\" "
   ]
  },
  {
   "cell_type": "code",
   "execution_count": 36,
   "metadata": {},
   "outputs": [
    {
     "name": "stdout",
     "output_type": "stream",
     "text": [
      "finalspeed of ball 1= 69.36717523440032\n",
      "initialspeed of ball 2= 30.63282476559968\n",
      "acceleration of ball 3 =  8.495709211125343\n"
     ]
    }
   ],
   "source": [
    "# example 1: we have some of the inital conditions to find the final velocity.\n",
    "list1 = [0, 0, 0, 10, 10, 45, 0, 10] \n",
    "b1 = Slope(list1)  # create a ball (instance) to pass through class. \n",
    "print ('finalspeed of ball 1=', b1.finalspeed()) \n",
    "\n",
    "# example 2:we have some of the inital conditions to find the initial velocity.\n",
    "list2 = [0, 100, 0, 10, 10, 45, 0, 10] \n",
    "b2 = Slope(list2)\n",
    "print ('initialspeed of ball 2=', b2.initialspeed())\n",
    "\n",
    "# example 3: we have some conditions to find the acceleration of the ball.\n",
    "list3 = [0, 100, 0, 10, 10, 60, 0, 10] \n",
    "b3 = Slope(list3)\n",
    "print ('acceleration of ball 3 = ', b3.resolve()) "
   ]
  },
  {
   "cell_type": "code",
   "execution_count": null,
   "metadata": {
    "collapsed": true
   },
   "outputs": [],
   "source": []
  },
  {
   "cell_type": "code",
   "execution_count": null,
   "metadata": {
    "collapsed": true
   },
   "outputs": [],
   "source": []
  }
 ],
 "metadata": {
  "kernelspec": {
   "display_name": "Python 3",
   "language": "python",
   "name": "python3"
  },
  "language_info": {
   "codemirror_mode": {
    "name": "ipython",
    "version": 3
   },
   "file_extension": ".py",
   "mimetype": "text/x-python",
   "name": "python",
   "nbconvert_exporter": "python",
   "pygments_lexer": "ipython3",
   "version": "3.6.1"
  }
 },
 "nbformat": 4,
 "nbformat_minor": 2
}
